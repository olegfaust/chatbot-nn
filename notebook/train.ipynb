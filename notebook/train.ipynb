{
  "nbformat": 4,
  "nbformat_minor": 0,
  "metadata": {
    "colab": {
      "name": "train.ipynb",
      "provenance": [],
      "collapsed_sections": []
    },
    "kernelspec": {
      "name": "python3",
      "display_name": "Python 3"
    },
    "accelerator": "GPU"
  },
  "cells": [
    {
      "cell_type": "markdown",
      "metadata": {
        "id": "esN8_1D1BjBT",
        "colab_type": "text"
      },
      "source": [
        "Install all required libraries"
      ]
    },
    {
      "cell_type": "code",
      "metadata": {
        "id": "PEyHJyNn8STw",
        "colab_type": "code",
        "colab": {}
      },
      "source": [
        "!pip install numpy\n",
        "!pip install tqdm\n",
        "!pip install tensorflow\n",
        "!pip install torch\n",
        "!pip install torchvision\n",
        "!pip install transformers\n",
        "!pip install pytorch_lightning"
      ],
      "execution_count": null,
      "outputs": []
    },
    {
      "cell_type": "markdown",
      "metadata": {
        "id": "6QsmERy0BfmT",
        "colab_type": "text"
      },
      "source": [
        "Check what type of GPU we have"
      ]
    },
    {
      "cell_type": "code",
      "metadata": {
        "id": "X66PvW5kEpNu",
        "colab_type": "code",
        "colab": {}
      },
      "source": [
        "import torch\n",
        "torch.cuda.get_device_name(0)"
      ],
      "execution_count": null,
      "outputs": []
    },
    {
      "cell_type": "markdown",
      "metadata": {
        "id": "QY1tpkQ4Bs_e",
        "colab_type": "text"
      },
      "source": [
        "Mount Google Drive"
      ]
    },
    {
      "cell_type": "code",
      "metadata": {
        "id": "odkhARcx9noQ",
        "colab_type": "code",
        "colab": {}
      },
      "source": [
        "from google.colab import drive\n",
        "drive.mount('/content/gdrive')"
      ],
      "execution_count": null,
      "outputs": []
    },
    {
      "cell_type": "markdown",
      "metadata": {
        "id": "PrQgbnbyB0LN",
        "colab_type": "text"
      },
      "source": [
        "Start training"
      ]
    },
    {
      "cell_type": "code",
      "metadata": {
        "id": "Gwgfm-dF-KQa",
        "colab_type": "code",
        "colab": {}
      },
      "source": [
        "%cd /content/gdrive/My\\ Drive/t5/\n",
        "!python train.py --input_dir=./data/ --model_name_or_path=t5-small --learning_rate=3e-5 --output_dir=./model/ --gpus=1"
      ],
      "execution_count": null,
      "outputs": []
    }
  ]
}